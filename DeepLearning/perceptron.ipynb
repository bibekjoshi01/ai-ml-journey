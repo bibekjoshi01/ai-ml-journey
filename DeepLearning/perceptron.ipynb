{
 "cells": [
  {
   "metadata": {},
   "cell_type": "markdown",
   "source": "## Implementing Single Node Single Layer NN",
   "id": "f75e5a80bab00282"
  },
  {
   "metadata": {
    "ExecuteTime": {
     "end_time": "2025-07-22T09:22:45.437790Z",
     "start_time": "2025-07-22T09:22:45.389781Z"
    }
   },
   "cell_type": "code",
   "source": "import numpy as np",
   "id": "6b957d7fdb6b9ce0",
   "outputs": [],
   "execution_count": 4
  },
  {
   "metadata": {
    "ExecuteTime": {
     "end_time": "2025-07-22T09:22:45.444745Z",
     "start_time": "2025-07-22T09:22:45.443078Z"
    }
   },
   "cell_type": "code",
   "source": [
    "X = np.array([\n",
    "    [0, 0],\n",
    "    [0, 1],\n",
    "    [1, 0],\n",
    "    [1, 1],\n",
    "])\n",
    "\n",
    "OR_y = np.array([0, 1, 1, 1])\n",
    "AND_y = np.array([0, 0, 0, 1])\n",
    "XOR_y = np.array([0, 1, 1, 0])"
   ],
   "id": "4dd968499c798cad",
   "outputs": [],
   "execution_count": 5
  },
  {
   "metadata": {
    "ExecuteTime": {
     "end_time": "2025-07-22T09:22:45.454634Z",
     "start_time": "2025-07-22T09:22:45.452508Z"
    }
   },
   "cell_type": "code",
   "source": [
    "class Perceptron:\n",
    "    def __init__(self, input_size, learning_rate=1.0):\n",
    "        self.lr = learning_rate\n",
    "        self.weights = np.zeros(input_size)\n",
    "        self.bias = 0\n",
    "\n",
    "    def step(self, x):\n",
    "        return 1 if x >= 0 else 0\n",
    "\n",
    "    def predict(self, x):\n",
    "        z = np.dot(self.weights, x) + self.bias\n",
    "        return self.step(z)\n",
    "\n",
    "    def fit(self, x_train, y_target, epochs = 5):\n",
    "        for epoch in range(epochs):\n",
    "            print(f\"\\nEpoch {epoch+1}\")\n",
    "            for xi, target in zip(x_train, y_target):\n",
    "                pred = self.predict(xi)\n",
    "                # Calculate Error\n",
    "                error = target - pred\n",
    "                # Update Weights\n",
    "                self.weights += self.lr * error * xi\n",
    "                self.bias += self.lr * error\n",
    "                print(f\"Input: {xi}, Target: {target}, Pred: {pred}, Error: {error}\")\n",
    "                print(f\"Weights: {self.weights}, Bias: {self.bias}\")\n"
   ],
   "id": "8fab0229d2ee2888",
   "outputs": [],
   "execution_count": 6
  },
  {
   "metadata": {
    "ExecuteTime": {
     "end_time": "2025-07-22T09:22:45.463461Z",
     "start_time": "2025-07-22T09:22:45.460374Z"
    }
   },
   "cell_type": "code",
   "source": [
    "pr = Perceptron(input_size=len(X[0]), learning_rate=1)\n",
    "pr.fit(X, OR_y)\n",
    "\n",
    "print(\"\\nPredictions:\")\n",
    "for x in X:\n",
    "    print(f\"{x} -> {pr.predict(x)}\")"
   ],
   "id": "9e5eb7d9f18ded16",
   "outputs": [
    {
     "name": "stdout",
     "output_type": "stream",
     "text": [
      "\n",
      "Epoch 1\n",
      "Input: [0 0], Target: 0, Pred: 1, Error: -1\n",
      "Weights: [0. 0.], Bias: -1\n",
      "Input: [0 1], Target: 1, Pred: 0, Error: 1\n",
      "Weights: [0. 1.], Bias: 0\n",
      "Input: [1 0], Target: 1, Pred: 1, Error: 0\n",
      "Weights: [0. 1.], Bias: 0\n",
      "Input: [1 1], Target: 1, Pred: 1, Error: 0\n",
      "Weights: [0. 1.], Bias: 0\n",
      "\n",
      "Epoch 2\n",
      "Input: [0 0], Target: 0, Pred: 1, Error: -1\n",
      "Weights: [0. 1.], Bias: -1\n",
      "Input: [0 1], Target: 1, Pred: 1, Error: 0\n",
      "Weights: [0. 1.], Bias: -1\n",
      "Input: [1 0], Target: 1, Pred: 0, Error: 1\n",
      "Weights: [1. 1.], Bias: 0\n",
      "Input: [1 1], Target: 1, Pred: 1, Error: 0\n",
      "Weights: [1. 1.], Bias: 0\n",
      "\n",
      "Epoch 3\n",
      "Input: [0 0], Target: 0, Pred: 1, Error: -1\n",
      "Weights: [1. 1.], Bias: -1\n",
      "Input: [0 1], Target: 1, Pred: 1, Error: 0\n",
      "Weights: [1. 1.], Bias: -1\n",
      "Input: [1 0], Target: 1, Pred: 1, Error: 0\n",
      "Weights: [1. 1.], Bias: -1\n",
      "Input: [1 1], Target: 1, Pred: 1, Error: 0\n",
      "Weights: [1. 1.], Bias: -1\n",
      "\n",
      "Epoch 4\n",
      "Input: [0 0], Target: 0, Pred: 0, Error: 0\n",
      "Weights: [1. 1.], Bias: -1\n",
      "Input: [0 1], Target: 1, Pred: 1, Error: 0\n",
      "Weights: [1. 1.], Bias: -1\n",
      "Input: [1 0], Target: 1, Pred: 1, Error: 0\n",
      "Weights: [1. 1.], Bias: -1\n",
      "Input: [1 1], Target: 1, Pred: 1, Error: 0\n",
      "Weights: [1. 1.], Bias: -1\n",
      "\n",
      "Epoch 5\n",
      "Input: [0 0], Target: 0, Pred: 0, Error: 0\n",
      "Weights: [1. 1.], Bias: -1\n",
      "Input: [0 1], Target: 1, Pred: 1, Error: 0\n",
      "Weights: [1. 1.], Bias: -1\n",
      "Input: [1 0], Target: 1, Pred: 1, Error: 0\n",
      "Weights: [1. 1.], Bias: -1\n",
      "Input: [1 1], Target: 1, Pred: 1, Error: 0\n",
      "Weights: [1. 1.], Bias: -1\n",
      "\n",
      "Predictions:\n",
      "[0 0] -> 0\n",
      "[0 1] -> 1\n",
      "[1 0] -> 1\n",
      "[1 1] -> 1\n"
     ]
    }
   ],
   "execution_count": 7
  },
  {
   "metadata": {},
   "cell_type": "markdown",
   "source": "#### Fails to predict in case of XOR_Y (Non linear data)",
   "id": "5e1c32c548e022ca"
  },
  {
   "metadata": {
    "ExecuteTime": {
     "end_time": "2025-07-22T09:22:45.475750Z",
     "start_time": "2025-07-22T09:22:45.472263Z"
    }
   },
   "cell_type": "code",
   "source": [
    "pr = Perceptron(input_size=len(X[0]), learning_rate=1)\n",
    "pr.fit(X, XOR_y)\n",
    "\n",
    "print(\"\\nXOR Predictions:\")\n",
    "for x in X:\n",
    "    print(f\"{x} -> {pr.predict(x)}\")"
   ],
   "id": "21e7afc2c98e01d4",
   "outputs": [
    {
     "name": "stdout",
     "output_type": "stream",
     "text": [
      "\n",
      "Epoch 1\n",
      "Input: [0 0], Target: 0, Pred: 1, Error: -1\n",
      "Weights: [0. 0.], Bias: -1\n",
      "Input: [0 1], Target: 1, Pred: 0, Error: 1\n",
      "Weights: [0. 1.], Bias: 0\n",
      "Input: [1 0], Target: 1, Pred: 1, Error: 0\n",
      "Weights: [0. 1.], Bias: 0\n",
      "Input: [1 1], Target: 0, Pred: 1, Error: -1\n",
      "Weights: [-1.  0.], Bias: -1\n",
      "\n",
      "Epoch 2\n",
      "Input: [0 0], Target: 0, Pred: 0, Error: 0\n",
      "Weights: [-1.  0.], Bias: -1\n",
      "Input: [0 1], Target: 1, Pred: 0, Error: 1\n",
      "Weights: [-1.  1.], Bias: 0\n",
      "Input: [1 0], Target: 1, Pred: 0, Error: 1\n",
      "Weights: [0. 1.], Bias: 1\n",
      "Input: [1 1], Target: 0, Pred: 1, Error: -1\n",
      "Weights: [-1.  0.], Bias: 0\n",
      "\n",
      "Epoch 3\n",
      "Input: [0 0], Target: 0, Pred: 1, Error: -1\n",
      "Weights: [-1.  0.], Bias: -1\n",
      "Input: [0 1], Target: 1, Pred: 0, Error: 1\n",
      "Weights: [-1.  1.], Bias: 0\n",
      "Input: [1 0], Target: 1, Pred: 0, Error: 1\n",
      "Weights: [0. 1.], Bias: 1\n",
      "Input: [1 1], Target: 0, Pred: 1, Error: -1\n",
      "Weights: [-1.  0.], Bias: 0\n",
      "\n",
      "Epoch 4\n",
      "Input: [0 0], Target: 0, Pred: 1, Error: -1\n",
      "Weights: [-1.  0.], Bias: -1\n",
      "Input: [0 1], Target: 1, Pred: 0, Error: 1\n",
      "Weights: [-1.  1.], Bias: 0\n",
      "Input: [1 0], Target: 1, Pred: 0, Error: 1\n",
      "Weights: [0. 1.], Bias: 1\n",
      "Input: [1 1], Target: 0, Pred: 1, Error: -1\n",
      "Weights: [-1.  0.], Bias: 0\n",
      "\n",
      "Epoch 5\n",
      "Input: [0 0], Target: 0, Pred: 1, Error: -1\n",
      "Weights: [-1.  0.], Bias: -1\n",
      "Input: [0 1], Target: 1, Pred: 0, Error: 1\n",
      "Weights: [-1.  1.], Bias: 0\n",
      "Input: [1 0], Target: 1, Pred: 0, Error: 1\n",
      "Weights: [0. 1.], Bias: 1\n",
      "Input: [1 1], Target: 0, Pred: 1, Error: -1\n",
      "Weights: [-1.  0.], Bias: 0\n",
      "\n",
      "XOR Predictions:\n",
      "[0 0] -> 1\n",
      "[0 1] -> 1\n",
      "[1 0] -> 0\n",
      "[1 1] -> 0\n"
     ]
    }
   ],
   "execution_count": 8
  }
 ],
 "metadata": {
  "kernelspec": {
   "display_name": "Python 3",
   "language": "python",
   "name": "python3"
  },
  "language_info": {
   "codemirror_mode": {
    "name": "ipython",
    "version": 2
   },
   "file_extension": ".py",
   "mimetype": "text/x-python",
   "name": "python",
   "nbconvert_exporter": "python",
   "pygments_lexer": "ipython2",
   "version": "2.7.6"
  }
 },
 "nbformat": 4,
 "nbformat_minor": 5
}
