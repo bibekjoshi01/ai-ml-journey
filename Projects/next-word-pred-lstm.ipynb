{
 "cells": [
  {
   "cell_type": "code",
   "execution_count": 1,
   "id": "90d5120f",
   "metadata": {},
   "outputs": [],
   "source": [
    "import torch\n",
    "import torch.nn as nn\n",
    "import torch.optim as optim\n",
    "from torch.utils.data import Dataset, DataLoader"
   ]
  },
  {
   "cell_type": "code",
   "execution_count": 3,
   "id": "d1fdfca4",
   "metadata": {},
   "outputs": [
    {
     "name": "stdout",
     "output_type": "stream",
     "text": [
      "Vocabulary:  ['deep', 'fun.', 'i', 'learning', 'love', 'machine', 'makes', 'pytorch', 'pytorch.', 'with']\n",
      "Vocab Size:  10\n"
     ]
    }
   ],
   "source": [
    "text = 'I love learning deep learning with pytorch. Pytorch makes machine learning fun.'\n",
    "\n",
    "words = text.lower().split()\n",
    "\n",
    "vocab = sorted(set(words))\n",
    "word2idx = {w: i for i, w in enumerate(vocab)}\n",
    "idx2word = {i: w for w, i in word2idx.items()}\n",
    "\n",
    "vocab_size = len(vocab)\n",
    "\n",
    "print(\"Vocabulary: \", vocab)\n",
    "print(\"Vocab Size: \", vocab_size)"
   ]
  },
  {
   "cell_type": "code",
   "execution_count": 4,
   "id": "635d236d",
   "metadata": {},
   "outputs": [
    {
     "name": "stdout",
     "output_type": "stream",
     "text": [
      "X:  tensor([2, 4, 3, 0, 3, 9, 8, 7, 6, 5, 3])\n",
      "y:  tensor([4, 3, 0, 3, 9, 8, 7, 6, 5, 3, 1])\n"
     ]
    }
   ],
   "source": [
    "X = []\n",
    "y = []\n",
    "\n",
    "for i in range(len(words) - 1):\n",
    "    X.append(word2idx[words[i]])\n",
    "    y.append(word2idx[words[i+1]])\n",
    "\n",
    "X = torch.tensor(X)\n",
    "y = torch.tensor(y)\n",
    "\n",
    "print(\"X: \", X)\n",
    "print(\"y: \", y)"
   ]
  },
  {
   "cell_type": "code",
   "execution_count": null,
   "id": "01735d7a",
   "metadata": {},
   "outputs": [],
   "source": [
    "class NextWordPredictor(nn.Module):\n",
    "    def __init__(self, vocab_size, embed_size, hidden_size):\n",
    "        super(NextWordPredictor, self).__init__()\n",
    "\n",
    "        self.embedding = nn.Embedding(vocab_size, embed_size)\n",
    "        self.lstm = nn.LSTM(embed_size, hidden_size, batch_first=True)\n",
    "        self.fc = nn.Linear(hidden_size, vocab_size)\n",
    "     \n",
    "    def forward(self, x, hidden=None):\n",
    "        x = self.embedding(x)\n",
    "        out, hidden = self.lstm(x, hidden)\n",
    "        out = self.fc(out[:, -1, :])\n",
    "        return out"
   ]
  },
  {
   "cell_type": "code",
   "execution_count": 6,
   "id": "f622dfce",
   "metadata": {},
   "outputs": [],
   "source": [
    "embed_size = 10\n",
    "hidden_size = 20\n",
    "\n",
    "model = NextWordPredictor(vocab_size, embed_size, hidden_size)\n",
    "\n",
    "criterion = nn.CrossEntropyLoss()\n",
    "optimizer = optim.Adam(model.parameters(), lr=0.01)"
   ]
  },
  {
   "cell_type": "code",
   "execution_count": 7,
   "id": "e2343c45",
   "metadata": {},
   "outputs": [
    {
     "name": "stdout",
     "output_type": "stream",
     "text": [
      "Epoch [50/200], Loss: 3.4732\n",
      "Epoch [100/200], Loss: 3.4203\n",
      "Epoch [150/200], Loss: 3.4021\n",
      "Epoch [200/200], Loss: 3.3893\n"
     ]
    }
   ],
   "source": [
    "num_epochs = 200\n",
    "\n",
    "for epoch in range(num_epochs):\n",
    "    total_loss = 0\n",
    "    \n",
    "    for i in range(len(X)):\n",
    "        input_word = X[i].unsqueeze(0).unsqueeze(0)\n",
    "        target_word = y[i].unsqueeze(0)\n",
    "\n",
    "        output = model(input_word)\n",
    "        loss = criterion(output, target_word)\n",
    "\n",
    "        optimizer.zero_grad()\n",
    "        loss.backward()\n",
    "        optimizer.step()\n",
    "\n",
    "        total_loss += loss.item()\n",
    "\n",
    "    if (epoch + 1) % 50 == 0:\n",
    "        print(f\"Epoch [{epoch+1}/{num_epochs}], Loss: {total_loss:.4f}\")"
   ]
  },
  {
   "cell_type": "code",
   "execution_count": 10,
   "id": "a62fd03e",
   "metadata": {},
   "outputs": [],
   "source": [
    "def predict_next_word(model, word, top_k=3):\n",
    "    model.eval()\n",
    "    idx = word2idx.get(word.lower(), None)\n",
    "    if idx is None:\n",
    "        return \"Word not in vocabulary.\"\n",
    "    \n",
    "    input_word = torch.tensor([[idx]])  # shape: (1,1)\n",
    "    with torch.no_grad():\n",
    "        output = model(input_word)\n",
    "        probs = torch.softmax(output, dim=1)\n",
    "        top_idx = torch.topk(probs, top_k).indices.squeeze().tolist()\n",
    "    \n",
    "    predictions = [idx2word[i] for i in top_idx]\n",
    "    return predictions"
   ]
  },
  {
   "cell_type": "code",
   "execution_count": 11,
   "id": "168995a7",
   "metadata": {},
   "outputs": [
    {
     "name": "stdout",
     "output_type": "stream",
     "text": [
      "['makes', 'pytorch', 'learning']\n",
      "['with', 'deep', 'fun.']\n",
      "['love', 'learning', 'pytorch.']\n"
     ]
    }
   ],
   "source": [
    "print(predict_next_word(model, \"pytorch\"))\n",
    "print(predict_next_word(model, \"learning\"))\n",
    "print(predict_next_word(model, \"i\"))"
   ]
  }
 ],
 "metadata": {
  "kernelspec": {
   "display_name": ".venv",
   "language": "python",
   "name": "python3"
  },
  "language_info": {
   "codemirror_mode": {
    "name": "ipython",
    "version": 3
   },
   "file_extension": ".py",
   "mimetype": "text/x-python",
   "name": "python",
   "nbconvert_exporter": "python",
   "pygments_lexer": "ipython3",
   "version": "3.13.5"
  }
 },
 "nbformat": 4,
 "nbformat_minor": 5
}
