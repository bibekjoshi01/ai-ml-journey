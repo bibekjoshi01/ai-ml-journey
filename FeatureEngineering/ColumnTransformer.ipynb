{
 "cells": [
  {
   "cell_type": "code",
   "execution_count": 29,
   "id": "4641a6b1",
   "metadata": {},
   "outputs": [],
   "source": [
    "import numpy as np\n",
    "import pandas as pd"
   ]
  },
  {
   "cell_type": "code",
   "execution_count": 30,
   "id": "374051f2",
   "metadata": {},
   "outputs": [],
   "source": [
    "from sklearn.preprocessing import OneHotEncoder, OrdinalEncoder"
   ]
  },
  {
   "cell_type": "code",
   "execution_count": 31,
   "id": "115bee53",
   "metadata": {},
   "outputs": [
    {
     "data": {
      "text/html": [
       "<div>\n",
       "<style scoped>\n",
       "    .dataframe tbody tr th:only-of-type {\n",
       "        vertical-align: middle;\n",
       "    }\n",
       "\n",
       "    .dataframe tbody tr th {\n",
       "        vertical-align: top;\n",
       "    }\n",
       "\n",
       "    .dataframe thead th {\n",
       "        text-align: right;\n",
       "    }\n",
       "</style>\n",
       "<table border=\"1\" class=\"dataframe\">\n",
       "  <thead>\n",
       "    <tr style=\"text-align: right;\">\n",
       "      <th></th>\n",
       "      <th>age</th>\n",
       "      <th>gender</th>\n",
       "      <th>review</th>\n",
       "      <th>education</th>\n",
       "      <th>purchased</th>\n",
       "    </tr>\n",
       "  </thead>\n",
       "  <tbody>\n",
       "    <tr>\n",
       "      <th>0</th>\n",
       "      <td>30</td>\n",
       "      <td>Female</td>\n",
       "      <td>Average</td>\n",
       "      <td>School</td>\n",
       "      <td>No</td>\n",
       "    </tr>\n",
       "    <tr>\n",
       "      <th>1</th>\n",
       "      <td>68</td>\n",
       "      <td>Female</td>\n",
       "      <td>Poor</td>\n",
       "      <td>UG</td>\n",
       "      <td>No</td>\n",
       "    </tr>\n",
       "    <tr>\n",
       "      <th>2</th>\n",
       "      <td>70</td>\n",
       "      <td>Female</td>\n",
       "      <td>Good</td>\n",
       "      <td>PG</td>\n",
       "      <td>No</td>\n",
       "    </tr>\n",
       "    <tr>\n",
       "      <th>3</th>\n",
       "      <td>72</td>\n",
       "      <td>Female</td>\n",
       "      <td>Good</td>\n",
       "      <td>PG</td>\n",
       "      <td>No</td>\n",
       "    </tr>\n",
       "    <tr>\n",
       "      <th>4</th>\n",
       "      <td>16</td>\n",
       "      <td>Female</td>\n",
       "      <td>Average</td>\n",
       "      <td>UG</td>\n",
       "      <td>No</td>\n",
       "    </tr>\n",
       "  </tbody>\n",
       "</table>\n",
       "</div>"
      ],
      "text/plain": [
       "   age  gender   review education purchased\n",
       "0   30  Female  Average    School        No\n",
       "1   68  Female     Poor        UG        No\n",
       "2   70  Female     Good        PG        No\n",
       "3   72  Female     Good        PG        No\n",
       "4   16  Female  Average        UG        No"
      ]
     },
     "execution_count": 31,
     "metadata": {},
     "output_type": "execute_result"
    }
   ],
   "source": [
    "df = pd.read_csv('customer.csv')\n",
    "df.head()"
   ]
  },
  {
   "cell_type": "code",
   "execution_count": 32,
   "id": "12278f77",
   "metadata": {},
   "outputs": [
    {
     "data": {
      "text/plain": [
       "age          41\n",
       "gender        2\n",
       "review        3\n",
       "education     3\n",
       "purchased     2\n",
       "dtype: int64"
      ]
     },
     "execution_count": 32,
     "metadata": {},
     "output_type": "execute_result"
    }
   ],
   "source": [
    "df.nunique()"
   ]
  },
  {
   "cell_type": "code",
   "execution_count": 33,
   "id": "5a078747",
   "metadata": {},
   "outputs": [],
   "source": [
    "# Gender, Purchased -> Nominal Data\n",
    "# Review, Education -> Ordinal Data \n",
    "# Age -> Numerical Data"
   ]
  },
  {
   "cell_type": "code",
   "execution_count": 34,
   "id": "aaeb7d4a",
   "metadata": {},
   "outputs": [
    {
     "data": {
      "text/html": [
       "<div>\n",
       "<style scoped>\n",
       "    .dataframe tbody tr th:only-of-type {\n",
       "        vertical-align: middle;\n",
       "    }\n",
       "\n",
       "    .dataframe tbody tr th {\n",
       "        vertical-align: top;\n",
       "    }\n",
       "\n",
       "    .dataframe thead th {\n",
       "        text-align: right;\n",
       "    }\n",
       "</style>\n",
       "<table border=\"1\" class=\"dataframe\">\n",
       "  <thead>\n",
       "    <tr style=\"text-align: right;\">\n",
       "      <th></th>\n",
       "      <th>age</th>\n",
       "      <th>gender</th>\n",
       "      <th>review</th>\n",
       "      <th>education</th>\n",
       "    </tr>\n",
       "  </thead>\n",
       "  <tbody>\n",
       "    <tr>\n",
       "      <th>41</th>\n",
       "      <td>23</td>\n",
       "      <td>Male</td>\n",
       "      <td>Good</td>\n",
       "      <td>PG</td>\n",
       "    </tr>\n",
       "    <tr>\n",
       "      <th>37</th>\n",
       "      <td>94</td>\n",
       "      <td>Male</td>\n",
       "      <td>Average</td>\n",
       "      <td>PG</td>\n",
       "    </tr>\n",
       "    <tr>\n",
       "      <th>40</th>\n",
       "      <td>39</td>\n",
       "      <td>Male</td>\n",
       "      <td>Good</td>\n",
       "      <td>School</td>\n",
       "    </tr>\n",
       "    <tr>\n",
       "      <th>18</th>\n",
       "      <td>19</td>\n",
       "      <td>Male</td>\n",
       "      <td>Good</td>\n",
       "      <td>School</td>\n",
       "    </tr>\n",
       "    <tr>\n",
       "      <th>1</th>\n",
       "      <td>68</td>\n",
       "      <td>Female</td>\n",
       "      <td>Poor</td>\n",
       "      <td>UG</td>\n",
       "    </tr>\n",
       "  </tbody>\n",
       "</table>\n",
       "</div>"
      ],
      "text/plain": [
       "    age  gender   review education\n",
       "41   23    Male     Good        PG\n",
       "37   94    Male  Average        PG\n",
       "40   39    Male     Good    School\n",
       "18   19    Male     Good    School\n",
       "1    68  Female     Poor        UG"
      ]
     },
     "execution_count": 34,
     "metadata": {},
     "output_type": "execute_result"
    }
   ],
   "source": [
    "from sklearn.model_selection import train_test_split\n",
    "\n",
    "X_train, X_test, y_train, y_test = train_test_split(df.drop(columns=['purchased']), df['purchased'], test_size=0.2)\n",
    "X_train.head()"
   ]
  },
  {
   "cell_type": "markdown",
   "id": "da4cc900",
   "metadata": {},
   "source": [
    "## Without Column Transformer"
   ]
  },
  {
   "cell_type": "code",
   "execution_count": 35,
   "id": "24755fdd",
   "metadata": {},
   "outputs": [
    {
     "data": {
      "text/plain": [
       "(40, 2)"
      ]
     },
     "execution_count": 35,
     "metadata": {},
     "output_type": "execute_result"
    }
   ],
   "source": [
    "\n",
    "oe = OrdinalEncoder(categories=[['Poor', 'Average', 'Good'], ['School', 'UG', 'PG']])\n",
    "\n",
    "# Fit on train, transform both train & test\n",
    "X_train_trans = oe.fit_transform(X_train[['review', 'education']])\n",
    "X_test_trans = oe.transform(X_test[['review', 'education']])\n",
    "\n",
    "X_train_trans.shape"
   ]
  },
  {
   "cell_type": "code",
   "execution_count": 36,
   "id": "3547eb04",
   "metadata": {},
   "outputs": [],
   "source": [
    "ohe = OneHotEncoder(drop='first', sparse_output=False)\n",
    "\n",
    "X_train_gen = ohe.fit_transform(X_train[['gender']])\n",
    "X_test_gen = ohe.transform(X_test[['gender']])"
   ]
  },
  {
   "cell_type": "code",
   "execution_count": 37,
   "id": "813901d6",
   "metadata": {},
   "outputs": [
    {
     "data": {
      "text/plain": [
       "(40, 1)"
      ]
     },
     "execution_count": 37,
     "metadata": {},
     "output_type": "execute_result"
    }
   ],
   "source": [
    "# Extracting age\n",
    "\n",
    "X_train_age = X_train[['age']].values\n",
    "X_test_age = X_test[['age']].values\n",
    "X_train_age.shape"
   ]
  },
  {
   "cell_type": "code",
   "execution_count": 38,
   "id": "6ff6f713",
   "metadata": {},
   "outputs": [
    {
     "data": {
      "text/plain": [
       "array([[23.,  1.,  2.,  2.],\n",
       "       [94.,  1.,  1.,  2.],\n",
       "       [39.,  1.,  2.,  0.],\n",
       "       [19.,  1.,  2.,  0.],\n",
       "       [68.,  0.,  0.,  1.],\n",
       "       [45.,  0.,  2.,  0.],\n",
       "       [25.,  0.,  2.,  1.],\n",
       "       [15.,  1.,  0.,  2.],\n",
       "       [74.,  1.,  2.,  1.],\n",
       "       [83.,  0.,  1.,  1.],\n",
       "       [16.,  0.,  1.,  2.],\n",
       "       [77.,  0.,  1.,  1.],\n",
       "       [57.,  0.,  1.,  0.],\n",
       "       [18.,  1.,  2.,  0.],\n",
       "       [69.,  0.,  0.,  2.],\n",
       "       [61.,  1.,  0.,  2.],\n",
       "       [74.,  1.,  0.,  0.],\n",
       "       [76.,  1.,  0.,  2.],\n",
       "       [57.,  0.,  1.,  0.],\n",
       "       [59.,  1.,  0.,  1.],\n",
       "       [73.,  1.,  1.,  1.],\n",
       "       [16.,  0.,  1.,  1.],\n",
       "       [39.,  0.,  2.,  1.],\n",
       "       [57.,  0.,  2.,  0.],\n",
       "       [98.,  0.,  2.,  1.],\n",
       "       [72.,  0.,  2.,  2.],\n",
       "       [75.,  1.,  0.,  1.],\n",
       "       [97.,  1.,  0.,  2.],\n",
       "       [64.,  0.,  0.,  2.],\n",
       "       [38.,  0.,  2.,  2.],\n",
       "       [27.,  1.,  0.,  2.],\n",
       "       [53.,  0.,  0.,  2.],\n",
       "       [96.,  0.,  2.,  0.],\n",
       "       [30.,  0.,  2.,  2.],\n",
       "       [22.,  0.,  0.,  1.],\n",
       "       [30.,  0.,  1.,  0.],\n",
       "       [89.,  0.,  2.,  2.],\n",
       "       [74.,  1.,  2.,  1.],\n",
       "       [18.,  0.,  0.,  2.],\n",
       "       [86.,  1.,  1.,  0.]])"
      ]
     },
     "execution_count": 38,
     "metadata": {},
     "output_type": "execute_result"
    }
   ],
   "source": [
    "# Concatenating\n",
    "\n",
    "X_train_transformed = np.concatenate((X_train_age, X_train_gen, X_train_trans), axis=1)\n",
    "X_test_transformed = np.concatenate((X_test_age, X_test_gen, X_test_trans), axis=1)\n",
    "\n",
    "X_train_transformed"
   ]
  },
  {
   "cell_type": "markdown",
   "id": "e3f83b86",
   "metadata": {},
   "source": [
    "## Using Column Transformer"
   ]
  },
  {
   "cell_type": "code",
   "execution_count": 39,
   "id": "9d41df6d",
   "metadata": {},
   "outputs": [],
   "source": [
    "from sklearn.compose import ColumnTransformer"
   ]
  },
  {
   "cell_type": "code",
   "execution_count": 40,
   "id": "33394c83",
   "metadata": {},
   "outputs": [],
   "source": [
    "transformer = ColumnTransformer(transformers=[\n",
    "    ('tnf1', OrdinalEncoder(), ['review', 'education']),\n",
    "    ('tnf2', OneHotEncoder(sparse_output=False, drop='first'), ['gender'])\n",
    "], remainder='passthrough')"
   ]
  },
  {
   "cell_type": "code",
   "execution_count": 43,
   "id": "d229ece2",
   "metadata": {},
   "outputs": [
    {
     "data": {
      "text/plain": [
       "array([[ 0.,  0.,  1., 32.],\n",
       "       [ 2.,  1.,  1., 51.],\n",
       "       [ 0.,  2.,  0., 65.],\n",
       "       [ 1.,  2.,  0., 34.],\n",
       "       [ 1.,  0.,  0., 70.],\n",
       "       [ 0.,  2.,  1., 92.],\n",
       "       [ 2.,  1.,  1., 48.],\n",
       "       [ 2.,  1.,  0., 22.],\n",
       "       [ 2.,  1.,  0., 60.],\n",
       "       [ 0.,  1.,  0., 31.]])"
      ]
     },
     "execution_count": 43,
     "metadata": {},
     "output_type": "execute_result"
    }
   ],
   "source": [
    "transformer.fit_transform(X_train)\n",
    "transformer.fit_transform(X_test)"
   ]
  }
 ],
 "metadata": {
  "kernelspec": {
   "display_name": ".venv",
   "language": "python",
   "name": "python3"
  },
  "language_info": {
   "codemirror_mode": {
    "name": "ipython",
    "version": 3
   },
   "file_extension": ".py",
   "mimetype": "text/x-python",
   "name": "python",
   "nbconvert_exporter": "python",
   "pygments_lexer": "ipython3",
   "version": "3.13.5"
  }
 },
 "nbformat": 4,
 "nbformat_minor": 5
}
