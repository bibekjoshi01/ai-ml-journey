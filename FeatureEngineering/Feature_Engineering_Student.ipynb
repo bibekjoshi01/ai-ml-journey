{
 "cells": [
  {
   "cell_type": "markdown",
   "id": "8008aefb-4116-4e6e-a7c3-ccf19c2290c4",
   "metadata": {},
   "source": [
    "# Feature Engineering & Model Selection\n",
    "\n",
    "##### [TOTAL POINTS: 22]\n",
    "\n",
    "##  Learning Objectives\n",
    "\n",
    "By the end of this assignment, students should be able to:\n",
    "\n",
    "* Apply necessary preprocessing steps to prepare the data for modeling.\n",
    "* Perform feature engineering such as handling missing values, binning numerical variables, and extracting new features.\n",
    "* Train and fine-tune a **Decision Tree classifier** using **scikit-learn**, and evaluate it using **cross-validation** and **validation splits**.\n",
    "* Evaluate and compare multiple classification models (e.g., **Random Forest**, **XGBoost**) and build an effective **ensemble model**.\n",
    "\n",
    "## Problem Description\n",
    "\n",
    "The **Titanic** was a British passenger liner that tragically sank during its maiden voyage in 1912. The dataset you'll work with contains information about the passengers on board — such as their age, sex, ticket class, and whether they survived.\n",
    "\n",
    "Your task is to build a machine learning pipeline to **predict whether a passenger survived the Titanic disaster** using the provided features. Throughout the assignment, you will preprocess the data, engineer meaningful features, build various classifiers, and evaluate their performance.\n",
    "\n",
    "Let’s begin by importing the necessary libraries."
   ]
  },
  {
   "cell_type": "code",
   "execution_count": 89,
   "id": "c8b631ef-2d9d-4786-bb9e-6b93f8c8d768",
   "metadata": {},
   "outputs": [
    {
     "name": "stderr",
     "output_type": "stream",
     "text": [
      "4975.82s - pydevd: Sending message related to process being replaced timed-out after 5 seconds\n"
     ]
    }
   ],
   "source": [
    "!pip install pandas numpy matplotlib seaborn scikit-learn xgboost scikit-optimize -q"
   ]
  },
  {
   "cell_type": "code",
   "execution_count": 90,
   "id": "656ba3a5-817c-4f6f-97a5-897bad401c33",
   "metadata": {},
   "outputs": [],
   "source": [
    "# Task: Import necessary libraries for data analysis \n",
    "import pandas as pd\n",
    "import matplotlib.pyplot as plt\n",
    "import seaborn as sns\n",
    "import numpy as np\n",
    "\n",
    "%matplotlib inline\n",
    "sns.set()"
   ]
  },
  {
   "cell_type": "markdown",
   "id": "29c725ea-8188-4bbd-8bf4-b6a390c45397",
   "metadata": {},
   "source": [
    "### Load the Dataset <span style=\"float: right;\">[1 pt]</span>\n",
    "\n",
    "Load the `train.csv` and `test.csv` files using pandas."
   ]
  },
  {
   "cell_type": "code",
   "execution_count": 91,
   "id": "255f9ec8-c7b3-46b4-a980-4666baf71ac0",
   "metadata": {
    "deletable": false,
    "nbgrader": {
     "cell_type": "code",
     "checksum": "ec5300abe81db62126209b5c750fd667",
     "grade": false,
     "grade_id": "Ex-1-Task-1",
     "locked": false,
     "schema_version": 3,
     "solution": true,
     "task": false
    }
   },
   "outputs": [
    {
     "name": "stdout",
     "output_type": "stream",
     "text": [
      "<class 'pandas.core.frame.DataFrame'>\n",
      "RangeIndex: 891 entries, 0 to 890\n",
      "Data columns (total 12 columns):\n",
      " #   Column       Non-Null Count  Dtype  \n",
      "---  ------       --------------  -----  \n",
      " 0   PassengerId  891 non-null    int64  \n",
      " 1   Survived     891 non-null    int64  \n",
      " 2   Pclass       891 non-null    int64  \n",
      " 3   Name         891 non-null    object \n",
      " 4   Sex          891 non-null    object \n",
      " 5   Age          714 non-null    float64\n",
      " 6   SibSp        891 non-null    int64  \n",
      " 7   Parch        891 non-null    int64  \n",
      " 8   Ticket       891 non-null    object \n",
      " 9   Fare         891 non-null    float64\n",
      " 10  Cabin        204 non-null    object \n",
      " 11  Embarked     889 non-null    object \n",
      "dtypes: float64(2), int64(5), object(5)\n",
      "memory usage: 83.7+ KB\n"
     ]
    }
   ],
   "source": [
    "### Ex-1-Task-1\n",
    "# Load the Titanic dataset\n",
    "\n",
    "df_train = None\n",
    "df_test = None\n",
    "\n",
    "### BEGIN SOLUTION \n",
    "\n",
    "df_train = pd.read_csv(\"train.csv\")\n",
    "df_test = pd.read_csv(\"test.csv\")\n",
    "\n",
    "### END SOLUTION\n",
    "\n",
    "df_train.info()"
   ]
  },
  {
   "cell_type": "code",
   "execution_count": 92,
   "id": "4c035a92-8c9b-442b-88b4-03b5f26a89e5",
   "metadata": {
    "deletable": false,
    "editable": false,
    "nbgrader": {
     "cell_type": "code",
     "checksum": "89ac1b0a0ceb258501c2a90a402b15bf",
     "grade": true,
     "grade_id": "cell-89e847c316f3a134",
     "locked": true,
     "points": 1,
     "schema_version": 3,
     "solution": false,
     "task": false
    }
   },
   "outputs": [],
   "source": [
    "# INTENTIONALLY LEFT BLANK"
   ]
  },
  {
   "cell_type": "markdown",
   "id": "e602537c-20a7-46da-8c4e-a011acf014e8",
   "metadata": {},
   "source": [
    "### Store Target & Concatenate Datasets <span style=\"float: right;\">[1 pt]</span>\n",
    "\n",
    "- Store the `Survived` column from the training set into a separate variable.\n",
    "- Concatenate the training set (without the `Survived` column) and the test set into a single DataFrame called `data`.\n"
   ]
  },
  {
   "cell_type": "code",
   "execution_count": 93,
   "id": "68cc36f3-2d4e-4528-9898-05796d75cfcd",
   "metadata": {
    "deletable": false,
    "nbgrader": {
     "cell_type": "code",
     "checksum": "ff6538f3e41914f394d18de907d4a0e6",
     "grade": false,
     "grade_id": "Ex-1-Task-2",
     "locked": false,
     "schema_version": 3,
     "solution": true,
     "task": false
    }
   },
   "outputs": [],
   "source": [
    "### Ex-1-Task-2\n",
    "# Task: Store the target variable in a separate variable and concatenate train and test data\n",
    "\n",
    "survived_train = None\n",
    "data = None\n",
    "\n",
    "### BEGIN SOLUTION \n",
    "survived_train = df_train['Survived']\n",
    "data = pd.concat([df_train.drop(columns=['Survived']), df_test], axis=0, ignore_index=True)\n",
    "### END SOLUTION"
   ]
  },
  {
   "cell_type": "code",
   "execution_count": 94,
   "id": "2f03797b-10b2-4994-b334-3de0606d8ed9",
   "metadata": {
    "deletable": false,
    "editable": false,
    "nbgrader": {
     "cell_type": "code",
     "checksum": "00acc580f2ee4383b5f319197beb211b",
     "grade": true,
     "grade_id": "cell-3d4a3e55bb9fac50",
     "locked": true,
     "points": 1,
     "schema_version": 3,
     "solution": false,
     "task": false
    }
   },
   "outputs": [],
   "source": [
    "# INTENTIONALLY LEFT BLANK"
   ]
  },
  {
   "cell_type": "code",
   "execution_count": 95,
   "id": "eac1a888-6fbc-4c63-ab1d-192866bb5be0",
   "metadata": {},
   "outputs": [
    {
     "name": "stdout",
     "output_type": "stream",
     "text": [
      "<class 'pandas.core.frame.DataFrame'>\n",
      "RangeIndex: 1309 entries, 0 to 1308\n",
      "Data columns (total 11 columns):\n",
      " #   Column       Non-Null Count  Dtype  \n",
      "---  ------       --------------  -----  \n",
      " 0   PassengerId  1309 non-null   int64  \n",
      " 1   Pclass       1309 non-null   int64  \n",
      " 2   Name         1309 non-null   object \n",
      " 3   Sex          1309 non-null   object \n",
      " 4   Age          1046 non-null   float64\n",
      " 5   SibSp        1309 non-null   int64  \n",
      " 6   Parch        1309 non-null   int64  \n",
      " 7   Ticket       1309 non-null   object \n",
      " 8   Fare         1308 non-null   float64\n",
      " 9   Cabin        295 non-null    object \n",
      " 10  Embarked     1307 non-null   object \n",
      "dtypes: float64(2), int64(4), object(5)\n",
      "memory usage: 112.6+ KB\n"
     ]
    }
   ],
   "source": [
    "# Task: View basic info of the concatenated dataset\n",
    "data.info()"
   ]
  },
  {
   "cell_type": "markdown",
   "id": "9ed1863d-8063-4048-b1ae-fd8cd6b04e22",
   "metadata": {},
   "source": [
    "### Extract Title from Name <span style=\"float: right;\">[2 pts]</span>\n",
    " \n",
    "Extract the passenger's title (such as **Mr**, **Mrs**, **Miss**, etc.) from the `Name` column using a regular expression,  \n",
    "and store it in a new column called `Title`.\n",
    "\n",
    "For example, given names like:  \n",
    "- `Braund, Mr. Owen Harris` → Title: `Mr`\n",
    "- `Heikkinen, Miss. Laina` → Title: `Miss`\n",
    "\n",
    "Use a regex pattern that captures the word that appears between a space and a period following the surname."
   ]
  },
  {
   "cell_type": "code",
   "execution_count": 96,
   "id": "2f7c1e40-8f4e-4ebb-bff1-78c92673958e",
   "metadata": {
    "deletable": false,
    "nbgrader": {
     "cell_type": "code",
     "checksum": "23effe18c61de6b52e240687e5b078cf",
     "grade": false,
     "grade_id": "Ex-2-Task-1",
     "locked": false,
     "schema_version": 3,
     "solution": true,
     "task": false
    }
   },
   "outputs": [],
   "source": [
    "### Ex-2-Task-1\n",
    "# Task: Extract 'Title' from Name column and plot distribution\n",
    "\n",
    "data['Title'] = None\n",
    "\n",
    "### BEGIN SOLUTION\n",
    "import re\n",
    "data['Title'] = data['Name'].apply(lambda x: re.search(r',\\s*([^\\.]+)\\.', x).group(1).strip())\n",
    "### END SOLUTION"
   ]
  },
  {
   "cell_type": "markdown",
   "id": "2d37f759",
   "metadata": {},
   "source": []
  },
  {
   "cell_type": "code",
   "execution_count": 97,
   "id": "c2789c29-d772-42df-97f0-6a52f9aefcdd",
   "metadata": {
    "deletable": false,
    "editable": false,
    "nbgrader": {
     "cell_type": "code",
     "checksum": "e651752f17844365a5a0206ef4d14b32",
     "grade": true,
     "grade_id": "cell-5d6dc9cc8fb7fd01",
     "locked": true,
     "points": 2,
     "schema_version": 3,
     "solution": false,
     "task": false
    }
   },
   "outputs": [],
   "source": [
    "# INTENTIONALLY LEFT BLANK"
   ]
  },
  {
   "cell_type": "code",
   "execution_count": 98,
   "id": "617006f0-9029-4ca6-8eb5-7e41e204b355",
   "metadata": {},
   "outputs": [
    {
     "data": {
      "image/png": "[encoded data removed]",
      "text/plain": [
       "<Figure size 640x480 with 1 Axes>"
      ]
     },
     "metadata": {},
     "output_type": "display_data"
    }
   ],
   "source": [
    "# Task: Plot the title count\n",
    "sns.countplot(x='Title', data=data)\n",
    "plt.xticks(rotation=45)\n",
    "plt.show()"
   ]
  },
  {
   "cell_type": "markdown",
   "id": "f9e132b7-8121-4620-b417-3bb06a0cedba",
   "metadata": {},
   "source": [
    "### Normalize and Group Titles <span style=\"float: right;\">[2 pts]</span>\n",
    " \n",
    "- Normalize similar titles by replacing:  \n",
    "    - `'Mlle'` with `'Miss'`  \n",
    "    - `'Mme'` with `'Mrs'`  \n",
    "    - `'Ms'` with `'Miss'`\n",
    "\n",
    "- Then, group rare titles such as `'Don'`, `'Dona'`, `'Rev'`, `'Dr'`, `'Major'`, `'Lady'`, `'Sir'`, `'Col'`, `'Capt'`, `'Countess'`, and `'Jonkheer'` into a single category called `'Special'`."
   ]
  },
  {
   "cell_type": "code",
   "execution_count": 99,
   "id": "c7d13838-82df-43b3-bc82-5118bc207182",
   "metadata": {
    "deletable": false,
    "nbgrader": {
     "cell_type": "code",
     "checksum": "aadeb4722bf14e1c260c07bbbcbe1e20",
     "grade": false,
     "grade_id": "Ex-2-Task-2",
     "locked": false,
     "schema_version": 3,
     "solution": true,
     "task": false
    }
   },
   "outputs": [],
   "source": [
    "### Ex-2-Task-2\n",
    "# Task: Normalize rare titles to 'Special' and others\n",
    "\n",
    "### BEGIN SOLUTION \n",
    "data['Title'] = data['Title'].replace({'Mlle': 'Miss', 'Ms': 'Miss', 'Mme': 'Mrs'})\n",
    "\n",
    "special_titles = [\n",
    "    'Don', 'Dona', 'Rev', 'Dr', 'Major', 'Lady', 'Sir', \n",
    "    'Col', 'Capt', 'Countess', 'Jonkheer'\n",
    "]\n",
    "\n",
    "data['Title'] = data['Title'].apply(lambda x: 'Special' if x in special_titles else x)\n",
    "### END SOLUTION"
   ]
  },
  {
   "cell_type": "code",
   "execution_count": null,
   "id": "aaef00bf",
   "metadata": {},
   "outputs": [],
   "source": []
  },
  {
   "cell_type": "code",
   "execution_count": 100,
   "id": "e06a25cd-4481-44bc-843e-e79754c84c56",
   "metadata": {
    "deletable": false,
    "editable": false,
    "nbgrader": {
     "cell_type": "code",
     "checksum": "a9aab29c99cb2233e9c705c52bb34f99",
     "grade": true,
     "grade_id": "cell-e3be3a13e9240899",
     "locked": true,
     "points": 2,
     "schema_version": 3,
     "solution": false,
     "task": false
    }
   },
   "outputs": [],
   "source": [
    "# INTENTIONALLY LEFT BLANK"
   ]
  },
  {
   "cell_type": "markdown",
   "id": "a5a7de3c-5ff6-4545-b1ed-0f3bcb0b3b5e",
   "metadata": {},
   "source": [
    "### Create Binary Cabin Indicator  <span style=\"float: right;\">[1 pt]</span>\n",
    "\n",
    "Create a new binary column `Has_Cabin` that indicates whether a passenger has cabin information (`True` if present, `False` if missing)."
   ]
  },
  {
   "cell_type": "code",
   "execution_count": 101,
   "id": "1b81da67-def3-4177-b9ce-44dfbea9b252",
   "metadata": {
    "deletable": false,
    "nbgrader": {
     "cell_type": "code",
     "checksum": "68e527c0641c1eda41dd89ef73de1930",
     "grade": false,
     "grade_id": "Ex-3-Task-1",
     "locked": false,
     "schema_version": 3,
     "solution": true,
     "task": false
    }
   },
   "outputs": [],
   "source": [
    "### Ex-3-Task-1\n",
    "# Task: Add a binary column for presence of Cabin info\n",
    "\n",
    "data['Has_Cabin'] = None\n",
    "\n",
    "### BEGIN SOLUTION\n",
    "data['Has_Cabin'] = data['Cabin'].notnull()\n",
    "### END SOLUTION"
   ]
  },
  {
   "cell_type": "code",
   "execution_count": 102,
   "id": "d9486682-7cc1-4bed-baf2-1943f2eedfcc",
   "metadata": {
    "deletable": false,
    "editable": false,
    "nbgrader": {
     "cell_type": "code",
     "checksum": "f842af328447006e310a1096616e15a8",
     "grade": true,
     "grade_id": "cell-63a0f0178001cbb8",
     "locked": true,
     "points": 1,
     "schema_version": 3,
     "solution": false,
     "task": false
    }
   },
   "outputs": [],
   "source": [
    "# INTENTIONALLY LEFT BLANK"
   ]
  },
  {
   "cell_type": "code",
   "execution_count": 103,
   "id": "764d28d0-8a17-4d46-809e-7e45dcab02a7",
   "metadata": {},
   "outputs": [],
   "source": [
    "# Task: Drop irrelevant columns\n",
    "data.drop(['Cabin', 'Name', 'PassengerId', 'Ticket'], axis=1, inplace=True)"
   ]
  },
  {
   "cell_type": "markdown",
   "id": "41df0428-0558-4c6a-b290-6d106acf9003",
   "metadata": {},
   "source": [
    "### Impute Missing Values  <span style=\"float: right;\">[2 pts]</span>\n",
    "\n",
    "Fill missing values in the dataset as follows:  \n",
    "- Replace missing `Age` values with the median age.  \n",
    "- Replace missing `Fare` values with the median fare.  \n",
    "- Replace missing `Embarked` values with the most common port `'S'`."
   ]
  },
  {
   "cell_type": "code",
   "execution_count": 104,
   "id": "beb6384d-f504-4dd4-8f8d-b09ce718416f",
   "metadata": {
    "deletable": false,
    "nbgrader": {
     "cell_type": "code",
     "checksum": "1cd68cc990953036decfe3e252669e53",
     "grade": false,
     "grade_id": "Ex-4-Task-1",
     "locked": false,
     "schema_version": 3,
     "solution": true,
     "task": false
    }
   },
   "outputs": [],
   "source": [
    "### Ex-4-Task-1\n",
    "# Task: Impute missing values in Age, Fare, Embarked\n",
    "\n",
    "### BEGIN SOLUTION \n",
    "data['Age'] = data['Age'].fillna(data['Age'].median())\n",
    "data['Fare'] = data['Fare'].fillna(data['Fare'].median())\n",
    "data['Embarked'] = data['Embarked'].fillna('S')\n",
    "### END SOLUTION"
   ]
  },
  {
   "cell_type": "code",
   "execution_count": 105,
   "id": "27402a35-f578-4fd6-b447-b4b7cfe4a784",
   "metadata": {
    "deletable": false,
    "editable": false,
    "nbgrader": {
     "cell_type": "code",
     "checksum": "2988a7cccf1e1f0c5968417fe51bc312",
     "grade": true,
     "grade_id": "cell-7196635e23dce912",
     "locked": true,
     "points": 2,
     "schema_version": 3,
     "solution": false,
     "task": false
    }
   },
   "outputs": [],
   "source": [
    "# INTENTIONALLY LEFT BLANK"
   ]
  },
  {
   "cell_type": "markdown",
   "id": "8e894b7a-135a-4042-88c9-2dcec449d21e",
   "metadata": {},
   "source": [
    "### Bin Age and Fare into Categories  <span style=\"float: right;\">[2 pts]</span>\n",
    "\n",
    "- Convert the numerical columns `Age` and `Fare` into categorical variables by dividing them into 4 equal-sized groups (quartiles).  \n",
    "- Store the group labels in new columns `CatAge` and `CatFare`.  \n",
    "- Drop the original `Age` and `Fare` columns after binning."
   ]
  },
  {
   "cell_type": "code",
   "execution_count": 106,
   "id": "33d1f0d1-a0ec-4352-8eea-f9b6e5be5844",
   "metadata": {
    "deletable": false,
    "nbgrader": {
     "cell_type": "code",
     "checksum": "88f0f9807fdc397506c3867fe7b77251",
     "grade": false,
     "grade_id": "Ex-4-Task-2",
     "locked": false,
     "schema_version": 3,
     "solution": true,
     "task": false
    }
   },
   "outputs": [],
   "source": [
    "### Ex-4-Task-2\n",
    "# Task: Bin Age and Fare into categorical variables\n",
    "\n",
    "data['CatAge'] = None\n",
    "data['CatFare'] = None\n",
    "\n",
    "### BEGIN SOLUTION \n",
    "data['CatAge'] = pd.qcut(data['Age'], 4, labels=['Q1', 'Q2', 'Q3', 'Q4'])\n",
    "data['CatFare'] = pd.qcut(data['Fare'], 4, labels=['Q1', 'Q2', 'Q3', 'Q4'])\n",
    "\n",
    "data.drop(columns=['Age', 'Fare'], inplace=True)\n",
    "### END SOLUTION"
   ]
  },
  {
   "cell_type": "code",
   "execution_count": 107,
   "id": "11dd744d-46ed-4a32-89d8-ffdfa191459b",
   "metadata": {
    "deletable": false,
    "editable": false,
    "nbgrader": {
     "cell_type": "code",
     "checksum": "09e23294d932f926df3e1b1cd57eaa8f",
     "grade": true,
     "grade_id": "cell-bb619cdf8f13db73",
     "locked": true,
     "points": 2,
     "schema_version": 3,
     "solution": false,
     "task": false
    }
   },
   "outputs": [],
   "source": [
    "# INTENTIONALLY LEFT BLANK"
   ]
  },
  {
   "cell_type": "markdown",
   "id": "064903d9-44c9-44d2-bace-758f52179d43",
   "metadata": {},
   "source": [
    "### Create Family Size and Drop Columns  <span style=\"float: right;\">[1 pt]</span>\n",
    "\n",
    "Create a new column `Fam_Size` by summing `SibSp` and `Parch`, then drop the original `SibSp` and `Parch` columns."
   ]
  },
  {
   "cell_type": "code",
   "execution_count": 108,
   "id": "2e9fdc21-39ce-4845-a11f-08db580b1520",
   "metadata": {
    "deletable": false,
    "nbgrader": {
     "cell_type": "code",
     "checksum": "dfa8c83fae392f5895ad1ec8608d318d",
     "grade": false,
     "grade_id": "Ex-5-Task-1",
     "locked": false,
     "schema_version": 3,
     "solution": true,
     "task": false
    }
   },
   "outputs": [],
   "source": [
    "### Ex-5-Task-1 \n",
    "# Task: Create family size and drop SibSp, Parch\n",
    "\n",
    "### BEGIN SOLUTION \n",
    "data['Fam_Size'] = data['SibSp'] + data['Parch']\n",
    "\n",
    "data.drop(columns=['SibSp', 'Parch'], inplace=True)\n",
    "### END SOLUTION"
   ]
  },
  {
   "cell_type": "code",
   "execution_count": 109,
   "id": "b116eaad-8813-4494-929d-47329d9ef0d2",
   "metadata": {
    "deletable": false,
    "editable": false,
    "nbgrader": {
     "cell_type": "code",
     "checksum": "acaa73dd5782eb5f9cfb13150c684e60",
     "grade": true,
     "grade_id": "cell-1610d097f27f8193",
     "locked": true,
     "points": 1,
     "schema_version": 3,
     "solution": false,
     "task": false
    }
   },
   "outputs": [],
   "source": [
    "# INTENTIONALLY LEFT BLANK"
   ]
  },
  {
   "cell_type": "markdown",
   "id": "7aab2627-97b6-45e7-a894-23feb290592f",
   "metadata": {},
   "source": [
    "### One-Hot Encode Categorical Variables  <span style=\"float: right;\">[1 pt]</span>\n",
    "\n",
    "Convert categorical variables into one-hot encoded dummy variables, dropping the first category to avoid multicollinearity.\n"
   ]
  },
  {
   "cell_type": "code",
   "execution_count": 110,
   "id": "fa810c13-6918-449c-a922-b3ec70f78675",
   "metadata": {
    "deletable": false,
    "nbgrader": {
     "cell_type": "code",
     "checksum": "035b9e79e84dba3ce24079d22d58a0db",
     "grade": false,
     "grade_id": "Ex-5-Task-2",
     "locked": false,
     "schema_version": 3,
     "solution": true,
     "task": false
    }
   },
   "outputs": [],
   "source": [
    "### Ex-5-Task-2\n",
    "\n",
    "data_dum = None\n",
    "\n",
    "### BEGIN SOLUTION \n",
    "categorical_cols = data.select_dtypes(include=['object', 'category']).columns\n",
    "\n",
    "data_dum = pd.get_dummies(data, columns=categorical_cols, drop_first=True)\n",
    "### END SOLUTION"
   ]
  },
  {
   "cell_type": "code",
   "execution_count": 111,
   "id": "aee9ab69-7e63-436c-8f90-b65811f02084",
   "metadata": {
    "deletable": false,
    "editable": false,
    "nbgrader": {
     "cell_type": "code",
     "checksum": "a1f47e425af82988d41974dc826dace1",
     "grade": true,
     "grade_id": "cell-bda4e26e2e58d292",
     "locked": true,
     "points": 1,
     "schema_version": 3,
     "solution": false,
     "task": false
    }
   },
   "outputs": [],
   "source": [
    "# INTENTIONALLY LEFT BLANK"
   ]
  },
  {
   "cell_type": "code",
   "execution_count": 112,
   "id": "90879af2-d094-46b2-bb5d-c31777aaa1e2",
   "metadata": {},
   "outputs": [],
   "source": [
    "# Task: Split data into training and test sets\n",
    "data_train = data_dum.iloc[:891]\n",
    "data_test = data_dum.iloc[891:]\n",
    "\n",
    "X = data_train.values\n",
    "test = data_test.values\n",
    "y = survived_train.values"
   ]
  },
  {
   "cell_type": "markdown",
   "id": "a6f75f00-a4fe-464b-ba72-db77a409cbfb",
   "metadata": {},
   "source": [
    "### Tune Decision Tree with RandomizedSearchCV  <span style=\"float: right;\">[3 pts]</span>\n",
    "\n",
    "- Use `RandomizedSearchCV` to tune a `DecisionTreeClassifier`’s `max_depth` parameter, searching over values from 1 to 9, with a fixed random seed. \n",
    "- Perform 5 iterations with 5-fold cross-validation and fit the model to the training data.\n",
    "\n",
    "**Note:** Import libraries inside `begin solution` and `end solution`"
   ]
  },
  {
   "cell_type": "code",
   "execution_count": 113,
   "id": "e559f7f0-8bc4-4f65-a099-41deefb84377",
   "metadata": {
    "deletable": false,
    "nbgrader": {
     "cell_type": "code",
     "checksum": "4af6d1c113698e2348f2c027ef6a888f",
     "grade": false,
     "grade_id": "Ex-6-Task-1",
     "locked": false,
     "schema_version": 3,
     "solution": true,
     "task": false
    }
   },
   "outputs": [
    {
     "name": "stderr",
     "output_type": "stream",
     "text": [
      "0.00s - Debugger warning: It seems that frozen modules are being used, which may\n",
      "0.00s - make the debugger miss breakpoints. Please pass -Xfrozen_modules=off\n",
      "0.00s - to python to disable frozen modules.\n",
      "0.00s - Note: Debugging will proceed. Set PYDEVD_DISABLE_FILE_VALIDATION=1 to disable this validation.\n",
      "0.00s - Debugger warning: It seems that frozen modules are being used, which may\n",
      "0.00s - make the debugger miss breakpoints. Please pass -Xfrozen_modules=off\n",
      "0.00s - to python to disable frozen modules.\n",
      "0.00s - Note: Debugging will proceed. Set PYDEVD_DISABLE_FILE_VALIDATION=1 to disable this validation.\n",
      "0.00s - Debugger warning: It seems that frozen modules are being used, which may\n",
      "0.00s - make the debugger miss breakpoints. Please pass -Xfrozen_modules=off\n",
      "0.00s - to python to disable frozen modules.\n",
      "0.00s - Note: Debugging will proceed. Set PYDEVD_DISABLE_FILE_VALIDATION=1 to disable this validation.\n",
      "0.00s - Debugger warning: It seems that frozen modules are being used, which may\n",
      "0.00s - make the debugger miss breakpoints. Please pass -Xfrozen_modules=off\n",
      "0.00s - to python to disable frozen modules.\n",
      "0.00s - Note: Debugging will proceed. Set PYDEVD_DISABLE_FILE_VALIDATION=1 to disable this validation.\n",
      "0.00s - Debugger warning: It seems that frozen modules are being used, which may\n",
      "0.00s - make the debugger miss breakpoints. Please pass -Xfrozen_modules=off\n",
      "0.00s - to python to disable frozen modules.\n",
      "0.00s - Note: Debugging will proceed. Set PYDEVD_DISABLE_FILE_VALIDATION=1 to disable this validation.\n",
      "0.00s - Debugger warning: It seems that frozen modules are being used, which may\n",
      "0.00s - make the debugger miss breakpoints. Please pass -Xfrozen_modules=off\n",
      "0.00s - to python to disable frozen modules.\n",
      "0.00s - Note: Debugging will proceed. Set PYDEVD_DISABLE_FILE_VALIDATION=1 to disable this validation.\n",
      "0.00s - Debugger warning: It seems that frozen modules are being used, which may\n",
      "0.00s - make the debugger miss breakpoints. Please pass -Xfrozen_modules=off\n",
      "0.00s - to python to disable frozen modules.\n",
      "0.00s - Note: Debugging will proceed. Set PYDEVD_DISABLE_FILE_VALIDATION=1 to disable this validation.\n",
      "0.00s - Debugger warning: It seems that frozen modules are being used, which may\n",
      "0.00s - make the debugger miss breakpoints. Please pass -Xfrozen_modules=off\n",
      "0.00s - to python to disable frozen modules.\n",
      "0.00s - Note: Debugging will proceed. Set PYDEVD_DISABLE_FILE_VALIDATION=1 to disable this validation.\n",
      "0.00s - Debugger warning: It seems that frozen modules are being used, which may\n",
      "0.00s - make the debugger miss breakpoints. Please pass -Xfrozen_modules=off\n",
      "0.00s - to python to disable frozen modules.\n",
      "0.00s - Note: Debugging will proceed. Set PYDEVD_DISABLE_FILE_VALIDATION=1 to disable this validation.\n",
      "0.00s - Debugger warning: It seems that frozen modules are being used, which may\n",
      "0.00s - make the debugger miss breakpoints. Please pass -Xfrozen_modules=off\n",
      "0.00s - to python to disable frozen modules.\n",
      "0.00s - Note: Debugging will proceed. Set PYDEVD_DISABLE_FILE_VALIDATION=1 to disable this validation.\n"
     ]
    },
    {
     "name": "stdout",
     "output_type": "stream",
     "text": [
      "Tuned Decision Tree Parameters: {'max_depth': 6}\n",
      "Best score is 0.8114117130123658\n"
     ]
    }
   ],
   "source": [
    "### Ex-6-Task-1\n",
    "\n",
    "seed=42\n",
    "np.random.seed(seed)\n",
    "\n",
    "param_dist = {}\n",
    "clf = None     # Decision Tree Classifier \n",
    "clf_cv = None  # Randomized Search CV\n",
    "\n",
    "### BEGIN SOLUTION \n",
    "from sklearn.tree import DecisionTreeClassifier\n",
    "from sklearn.model_selection import RandomizedSearchCV\n",
    "\n",
    "param_dist = {'max_depth': list(range(1, 10))}\n",
    "clf = DecisionTreeClassifier(random_state=seed)\n",
    "clf_cv = RandomizedSearchCV(\n",
    "    estimator=clf,\n",
    "    param_distributions=param_dist,\n",
    "    n_iter=5,\n",
    "    cv=5,\n",
    "    random_state=seed,\n",
    "    n_jobs=-1\n",
    ")\n",
    "clf_cv.fit(X, y)\n",
    "### END SOLUTION\n",
    "\n",
    "print(\"Tuned Decision Tree Parameters: {}\".format(clf_cv.best_params_))\n",
    "print(\"Best score is {}\".format(clf_cv.best_score_))"
   ]
  },
  {
   "cell_type": "code",
   "execution_count": 114,
   "id": "806840f4-168b-45b3-bb6b-89cc08275f33",
   "metadata": {
    "deletable": false,
    "editable": false,
    "nbgrader": {
     "cell_type": "code",
     "checksum": "bd1f5e3dbdb069267cc242b3f9ba1f5e",
     "grade": true,
     "grade_id": "cell-b33f8924c00870f4",
     "locked": true,
     "points": 3,
     "schema_version": 3,
     "solution": false,
     "task": false
    }
   },
   "outputs": [],
   "source": [
    "# INTENTIONALLY LEFT BLANK"
   ]
  },
  {
   "cell_type": "markdown",
   "id": "38728b08-b8cd-4903-a3f7-189b771e8dd1",
   "metadata": {},
   "source": [
    "### Tune Random Forest with RandomizedSearchCV  <span style=\"float: right;\">[3 pts]</span>\n",
    " \n",
    "Use `RandomizedSearchCV` to tune a `RandomForestClassifier` with parameters:  \n",
    "- `n_estimators`: [50, 100, 200]  \n",
    "- `max_depth`: [None, 3, 5, 10]  \n",
    "- `max_features`: ['sqrt', 'log2']  \n",
    "\n",
    "Use a fixed random seed, run 5 iterations with 5-fold cross-validation, and fit the model.\n"
   ]
  },
  {
   "cell_type": "code",
   "execution_count": 115,
   "id": "bbd0325a-de7c-414a-a884-4627267487c5",
   "metadata": {
    "deletable": false,
    "nbgrader": {
     "cell_type": "code",
     "checksum": "c9cc9ddbc72a0c568f2fc6691ec3da0c",
     "grade": false,
     "grade_id": "Ex-6-Task-2",
     "locked": false,
     "schema_version": 3,
     "solution": true,
     "task": false
    }
   },
   "outputs": [
    {
     "name": "stdout",
     "output_type": "stream",
     "text": [
      "Best RF Params: {'n_estimators': 100, 'max_features': 'log2', 'max_depth': 5}\n",
      "Best CV Score: 0.8170485217500472\n"
     ]
    }
   ],
   "source": [
    "### Ex-6-Task-2\n",
    "\n",
    "rf_param_dist = {}\n",
    "rf = None     # Random Forest Classifier \n",
    "rf_cv = None  # Randomized Search CV\n",
    "\n",
    "### BEGIN SOLUTION \n",
    "from sklearn.ensemble import RandomForestClassifier\n",
    "\n",
    "rf_param_dist = {\n",
    "    'n_estimators': [50, 100, 200],\n",
    "    'max_depth': [None, 3, 5, 10],\n",
    "    'max_features': ['sqrt', 'log2']\n",
    "}\n",
    "rf = RandomForestClassifier(random_state=seed)\n",
    "rf_cv = RandomizedSearchCV(\n",
    "    estimator=rf,\n",
    "    param_distributions=rf_param_dist,\n",
    "    n_iter=5,\n",
    "    cv=5,\n",
    "    random_state=seed,\n",
    "    n_jobs=-1\n",
    ")\n",
    "\n",
    "rf_cv.fit(X, y)\n",
    "### END SOLUTION\n",
    "\n",
    "print(\"Best RF Params:\", rf_cv.best_params_)\n",
    "print(\"Best CV Score:\", rf_cv.best_score_)"
   ]
  },
  {
   "cell_type": "code",
   "execution_count": 116,
   "id": "b538ed83-b816-44bf-b63b-4ece64d44ae2",
   "metadata": {
    "deletable": false,
    "editable": false,
    "nbgrader": {
     "cell_type": "code",
     "checksum": "b4f9ca36a1bb583d952de7a692f42302",
     "grade": true,
     "grade_id": "cell-97a7f3dfabb1449c",
     "locked": true,
     "points": 3,
     "schema_version": 3,
     "solution": false,
     "task": false
    }
   },
   "outputs": [],
   "source": [
    "# INTENTIONALLY LEFT BLANK"
   ]
  },
  {
   "cell_type": "markdown",
   "id": "8b3d772e-fcf3-4a62-9496-5dafc885efe3",
   "metadata": {},
   "source": [
    "### Tune XGBoost with Bayesian Optimization  <span style=\"float: right;\">[3 pts]</span>\n",
    "\n",
    "Use `BayesSearchCV` from `scikit-optimize` to tune an `XGBClassifier`.  \n",
    "Search over the following hyperparameter space:\n",
    "\n",
    "- `max_depth`: integers between 3 and 8  \n",
    "- `n_estimators`: integers between 50 and 100  \n",
    "- `learning_rate`: log-uniformly between 0.01 and 0.2  \n",
    "\n",
    "Use 5-fold cross-validation, a fixed random seed, and 20 iterations. Then, fit the model."
   ]
  },
  {
   "cell_type": "code",
   "execution_count": 117,
   "id": "82de444c-af9e-432d-bd9d-83dfe22458f9",
   "metadata": {
    "deletable": false,
    "nbgrader": {
     "cell_type": "code",
     "checksum": "cf2b302aa87fa71e0d898ca95a43c299",
     "grade": false,
     "grade_id": "Ex-6-Task-3",
     "locked": false,
     "schema_version": 3,
     "solution": true,
     "task": false
    }
   },
   "outputs": [
    {
     "ename": "XGBoostError",
     "evalue": "\nXGBoost Library (libxgboost.dylib) could not be loaded.\nLikely causes:\n  * OpenMP runtime is not installed\n    - vcomp140.dll or libgomp-1.dll for Windows\n    - libomp.dylib for Mac OSX\n    - libgomp.so for Linux and other UNIX-like OSes\n    Mac OSX users: Run `brew install libomp` to install OpenMP runtime.\n\n  * You are running 32-bit Python on a 64-bit OS\n\nError message(s): [\"dlopen(/Users/bibekjoshi01/Drive X/my-projects/ai-ml-journey/.venv/lib/python3.13/site-packages/xgboost/lib/libxgboost.dylib, 0x0006): Library not loaded: @rpath/libomp.dylib\\n  Referenced from: <98D50080-9632-3EA4-B874-146E55453763> /Users/bibekjoshi01/Drive X/my-projects/ai-ml-journey/.venv/lib/python3.13/site-packages/xgboost/lib/libxgboost.dylib\\n  Reason: tried: '/opt/homebrew/opt/libomp/lib/libomp.dylib' (no such file), '/System/Volumes/Preboot/Cryptexes/OS/opt/homebrew/opt/libomp/lib/libomp.dylib' (no such file), '/opt/homebrew/opt/libomp/lib/libomp.dylib' (no such file), '/System/Volumes/Preboot/Cryptexes/OS/opt/homebrew/opt/libomp/lib/libomp.dylib' (no such file), '/opt/homebrew/lib/libomp.dylib' (no such file), '/System/Volumes/Preboot/Cryptexes/OS/opt/homebrew/lib/libomp.dylib' (no such file), '/opt/homebrew/lib/libomp.dylib' (no such file), '/System/Volumes/Preboot/Cryptexes/OS/opt/homebrew/lib/libomp.dylib' (no such file)\"]\n",
     "output_type": "error",
     "traceback": [
      "\u001b[31m---------------------------------------------------------------------------\u001b[39m",
      "\u001b[31mXGBoostError\u001b[39m                              Traceback (most recent call last)",
      "\u001b[36mCell\u001b[39m\u001b[36m \u001b[39m\u001b[32mIn[117]\u001b[39m\u001b[32m, line 8\u001b[39m\n\u001b[32m      5\u001b[39m xgb_cv = \u001b[38;5;28;01mNone\u001b[39;00m         \u001b[38;5;66;03m# BayesSearchCV\u001b[39;00m\n\u001b[32m      7\u001b[39m \u001b[38;5;66;03m### BEGIN SOLUTION \u001b[39;00m\n\u001b[32m----> \u001b[39m\u001b[32m8\u001b[39m \u001b[38;5;28;01mfrom\u001b[39;00m\u001b[38;5;250m \u001b[39m\u001b[34;01mxgboost\u001b[39;00m\u001b[38;5;250m \u001b[39m\u001b[38;5;28;01mimport\u001b[39;00m XGBClassifier\n\u001b[32m      9\u001b[39m \u001b[38;5;28;01mfrom\u001b[39;00m\u001b[38;5;250m \u001b[39m\u001b[34;01mskopt\u001b[39;00m\u001b[38;5;250m \u001b[39m\u001b[38;5;28;01mimport\u001b[39;00m BayesSearchCV\n\u001b[32m     10\u001b[39m \u001b[38;5;28;01mfrom\u001b[39;00m\u001b[38;5;250m \u001b[39m\u001b[34;01mskopt\u001b[39;00m\u001b[34;01m.\u001b[39;00m\u001b[34;01mspace\u001b[39;00m\u001b[38;5;250m \u001b[39m\u001b[38;5;28;01mimport\u001b[39;00m Integer, Real\n",
      "\u001b[36mFile \u001b[39m\u001b[32m~/Drive X/my-projects/ai-ml-journey/.venv/lib/python3.13/site-packages/xgboost/__init__.py:6\u001b[39m\n\u001b[32m      1\u001b[39m \u001b[33;03m\"\"\"XGBoost: eXtreme Gradient Boosting library.\u001b[39;00m\n\u001b[32m      2\u001b[39m \n\u001b[32m      3\u001b[39m \u001b[33;03mContributors: https://github.com/dmlc/xgboost/blob/master/CONTRIBUTORS.md\u001b[39;00m\n\u001b[32m      4\u001b[39m \u001b[33;03m\"\"\"\u001b[39;00m\n\u001b[32m----> \u001b[39m\u001b[32m6\u001b[39m \u001b[38;5;28;01mfrom\u001b[39;00m\u001b[38;5;250m \u001b[39m\u001b[34;01m.\u001b[39;00m\u001b[38;5;250m \u001b[39m\u001b[38;5;28;01mimport\u001b[39;00m tracker  \u001b[38;5;66;03m# noqa\u001b[39;00m\n\u001b[32m      7\u001b[39m \u001b[38;5;28;01mfrom\u001b[39;00m\u001b[38;5;250m \u001b[39m\u001b[34;01m.\u001b[39;00m\u001b[38;5;250m \u001b[39m\u001b[38;5;28;01mimport\u001b[39;00m collective\n\u001b[32m      8\u001b[39m \u001b[38;5;28;01mfrom\u001b[39;00m\u001b[38;5;250m \u001b[39m\u001b[34;01m.\u001b[39;00m\u001b[34;01mcore\u001b[39;00m\u001b[38;5;250m \u001b[39m\u001b[38;5;28;01mimport\u001b[39;00m (\n\u001b[32m      9\u001b[39m     Booster,\n\u001b[32m     10\u001b[39m     DataIter,\n\u001b[32m   (...)\u001b[39m\u001b[32m     15\u001b[39m     build_info,\n\u001b[32m     16\u001b[39m )\n",
      "\u001b[36mFile \u001b[39m\u001b[32m~/Drive X/my-projects/ai-ml-journey/.venv/lib/python3.13/site-packages/xgboost/tracker.py:9\u001b[39m\n\u001b[32m      6\u001b[39m \u001b[38;5;28;01mfrom\u001b[39;00m\u001b[38;5;250m \u001b[39m\u001b[34;01menum\u001b[39;00m\u001b[38;5;250m \u001b[39m\u001b[38;5;28;01mimport\u001b[39;00m IntEnum, unique\n\u001b[32m      7\u001b[39m \u001b[38;5;28;01mfrom\u001b[39;00m\u001b[38;5;250m \u001b[39m\u001b[34;01mtyping\u001b[39;00m\u001b[38;5;250m \u001b[39m\u001b[38;5;28;01mimport\u001b[39;00m Dict, Optional, Union\n\u001b[32m----> \u001b[39m\u001b[32m9\u001b[39m \u001b[38;5;28;01mfrom\u001b[39;00m\u001b[38;5;250m \u001b[39m\u001b[34;01m.\u001b[39;00m\u001b[34;01mcore\u001b[39;00m\u001b[38;5;250m \u001b[39m\u001b[38;5;28;01mimport\u001b[39;00m _LIB, _check_call, _deprecate_positional_args, make_jcargs\n\u001b[32m     12\u001b[39m \u001b[38;5;28;01mdef\u001b[39;00m\u001b[38;5;250m \u001b[39m\u001b[34mget_family\u001b[39m(addr: \u001b[38;5;28mstr\u001b[39m) -> \u001b[38;5;28mint\u001b[39m:\n\u001b[32m     13\u001b[39m \u001b[38;5;250m    \u001b[39m\u001b[33;03m\"\"\"Get network family from address.\"\"\"\u001b[39;00m\n",
      "\u001b[36mFile \u001b[39m\u001b[32m~/Drive X/my-projects/ai-ml-journey/.venv/lib/python3.13/site-packages/xgboost/core.py:295\u001b[39m\n\u001b[32m    291\u001b[39m     \u001b[38;5;28;01mreturn\u001b[39;00m lib\n\u001b[32m    294\u001b[39m \u001b[38;5;66;03m# load the XGBoost library globally\u001b[39;00m\n\u001b[32m--> \u001b[39m\u001b[32m295\u001b[39m _LIB = \u001b[43m_load_lib\u001b[49m\u001b[43m(\u001b[49m\u001b[43m)\u001b[49m\n\u001b[32m    298\u001b[39m \u001b[38;5;28;01mdef\u001b[39;00m\u001b[38;5;250m \u001b[39m\u001b[34m_check_call\u001b[39m(ret: \u001b[38;5;28mint\u001b[39m) -> \u001b[38;5;28;01mNone\u001b[39;00m:\n\u001b[32m    299\u001b[39m \u001b[38;5;250m    \u001b[39m\u001b[33;03m\"\"\"Check the return value of C API call\u001b[39;00m\n\u001b[32m    300\u001b[39m \n\u001b[32m    301\u001b[39m \u001b[33;03m    This function will raise exception when error occurs.\u001b[39;00m\n\u001b[32m   (...)\u001b[39m\u001b[32m    307\u001b[39m \u001b[33;03m        return value from API calls\u001b[39;00m\n\u001b[32m    308\u001b[39m \u001b[33;03m    \"\"\"\u001b[39;00m\n",
      "\u001b[36mFile \u001b[39m\u001b[32m~/Drive X/my-projects/ai-ml-journey/.venv/lib/python3.13/site-packages/xgboost/core.py:257\u001b[39m, in \u001b[36m_load_lib\u001b[39m\u001b[34m()\u001b[39m\n\u001b[32m    255\u001b[39m     \u001b[38;5;28;01mif\u001b[39;00m \u001b[38;5;129;01mnot\u001b[39;00m lib_success:\n\u001b[32m    256\u001b[39m         libname = os.path.basename(lib_paths[\u001b[32m0\u001b[39m])\n\u001b[32m--> \u001b[39m\u001b[32m257\u001b[39m         \u001b[38;5;28;01mraise\u001b[39;00m XGBoostError(\n\u001b[32m    258\u001b[39m             \u001b[33mf\u001b[39m\u001b[33m\"\"\"\u001b[39m\n\u001b[32m    259\u001b[39m \u001b[33mXGBoost Library (\u001b[39m\u001b[38;5;132;01m{\u001b[39;00mlibname\u001b[38;5;132;01m}\u001b[39;00m\u001b[33m) could not be loaded.\u001b[39m\n\u001b[32m    260\u001b[39m \u001b[33mLikely causes:\u001b[39m\n\u001b[32m    261\u001b[39m \u001b[33m  * OpenMP runtime is not installed\u001b[39m\n\u001b[32m    262\u001b[39m \u001b[33m    - vcomp140.dll or libgomp-1.dll for Windows\u001b[39m\n\u001b[32m    263\u001b[39m \u001b[33m    - libomp.dylib for Mac OSX\u001b[39m\n\u001b[32m    264\u001b[39m \u001b[33m    - libgomp.so for Linux and other UNIX-like OSes\u001b[39m\n\u001b[32m    265\u001b[39m \u001b[33m    Mac OSX users: Run `brew install libomp` to install OpenMP runtime.\u001b[39m\n\u001b[32m    266\u001b[39m \n\u001b[32m    267\u001b[39m \u001b[33m  * You are running 32-bit Python on a 64-bit OS\u001b[39m\n\u001b[32m    268\u001b[39m \n\u001b[32m    269\u001b[39m \u001b[33mError message(s): \u001b[39m\u001b[38;5;132;01m{\u001b[39;00mos_error_list\u001b[38;5;132;01m}\u001b[39;00m\n\u001b[32m    270\u001b[39m \u001b[33m\"\"\"\u001b[39m\n\u001b[32m    271\u001b[39m         )\n\u001b[32m    272\u001b[39m     _register_log_callback(lib)\n\u001b[32m    274\u001b[39m     libver = _lib_version(lib)\n",
      "\u001b[31mXGBoostError\u001b[39m: \nXGBoost Library (libxgboost.dylib) could not be loaded.\nLikely causes:\n  * OpenMP runtime is not installed\n    - vcomp140.dll or libgomp-1.dll for Windows\n    - libomp.dylib for Mac OSX\n    - libgomp.so for Linux and other UNIX-like OSes\n    Mac OSX users: Run `brew install libomp` to install OpenMP runtime.\n\n  * You are running 32-bit Python on a 64-bit OS\n\nError message(s): [\"dlopen(/Users/bibekjoshi01/Drive X/my-projects/ai-ml-journey/.venv/lib/python3.13/site-packages/xgboost/lib/libxgboost.dylib, 0x0006): Library not loaded: @rpath/libomp.dylib\\n  Referenced from: <98D50080-9632-3EA4-B874-146E55453763> /Users/bibekjoshi01/Drive X/my-projects/ai-ml-journey/.venv/lib/python3.13/site-packages/xgboost/lib/libxgboost.dylib\\n  Reason: tried: '/opt/homebrew/opt/libomp/lib/libomp.dylib' (no such file), '/System/Volumes/Preboot/Cryptexes/OS/opt/homebrew/opt/libomp/lib/libomp.dylib' (no such file), '/opt/homebrew/opt/libomp/lib/libomp.dylib' (no such file), '/System/Volumes/Preboot/Cryptexes/OS/opt/homebrew/opt/libomp/lib/libomp.dylib' (no such file), '/opt/homebrew/lib/libomp.dylib' (no such file), '/System/Volumes/Preboot/Cryptexes/OS/opt/homebrew/lib/libomp.dylib' (no such file), '/opt/homebrew/lib/libomp.dylib' (no such file), '/System/Volumes/Preboot/Cryptexes/OS/opt/homebrew/lib/libomp.dylib' (no such file)\"]\n"
     ]
    }
   ],
   "source": [
    "### Ex-6-Task-3\n",
    "\n",
    "param_space = {}      # Parameter Distribuition for BayesSearchCV\n",
    "xgb_model = None      # Random Forest Classifier \n",
    "xgb_cv = None         # BayesSearchCV\n",
    "\n",
    "### BEGIN SOLUTION \n",
    "from xgboost import XGBClassifier\n",
    "from skopt import BayesSearchCV\n",
    "from skopt.space import Integer, Real\n",
    "\n",
    "param_space = {\n",
    "    'max_depth': Integer(3, 8),\n",
    "    'n_estimators': Integer(50, 100),\n",
    "    'learning_rate': Real(0.01, 0.2, prior='log-uniform')\n",
    "}\n",
    "xgb_model = XGBClassifier(random_state=seed, use_label_encoder=False, eval_metric='logloss')\n",
    "xgb_cv = BayesSearchCV(\n",
    "    estimator=xgb_model,\n",
    "    search_spaces=param_space,\n",
    "    n_iter=20,\n",
    "    cv=5,\n",
    "    random_state=seed,\n",
    "    n_jobs=-1,\n",
    "    verbose=0\n",
    ")\n",
    "\n",
    "xgb_cv.fit(X, y)\n",
    "### END SOLUTION\n",
    "\n",
    "print(\"Best XGBoost Params:\", xgb_cv.best_params_)\n",
    "print(\"Best CV Score:\", xgb_cv.best_score_)"
   ]
  },
  {
   "cell_type": "code",
   "execution_count": null,
   "id": "9c32baa2-26ea-4fbd-900e-a69dc6b8b9d2",
   "metadata": {
    "deletable": false,
    "editable": false,
    "nbgrader": {
     "cell_type": "code",
     "checksum": "8a5fde694338406fc6e64121b9637385",
     "grade": true,
     "grade_id": "cell-f155c1433af9ed93",
     "locked": true,
     "points": 3,
     "schema_version": 3,
     "solution": false,
     "task": false
    }
   },
   "outputs": [],
   "source": [
    "# INTENTIONALLY LEFT BLANK"
   ]
  }
 ],
 "metadata": {
  "kernelspec": {
   "display_name": ".venv",
   "language": "python",
   "name": "python3"
  },
  "language_info": {
   "codemirror_mode": {
    "name": "ipython",
    "version": 3
   },
   "file_extension": ".py",
   "mimetype": "text/x-python",
   "name": "python",
   "nbconvert_exporter": "python",
   "pygments_lexer": "ipython3",
   "version": "3.13.5"
  }
 },
 "nbformat": 4,
 "nbformat_minor": 5
}
