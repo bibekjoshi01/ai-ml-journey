{
 "cells": [
  {
   "cell_type": "code",
   "execution_count": null,
   "id": "41dcc58e",
   "metadata": {},
   "outputs": [],
   "source": [
    "import numpy as np\n",
    "import pandas as pd"
   ]
  },
  {
   "cell_type": "code",
   "execution_count": 3,
   "id": "f8ebddf4",
   "metadata": {},
   "outputs": [
    {
     "data": {
      "text/html": [
       "<div>\n",
       "<style scoped>\n",
       "    .dataframe tbody tr th:only-of-type {\n",
       "        vertical-align: middle;\n",
       "    }\n",
       "\n",
       "    .dataframe tbody tr th {\n",
       "        vertical-align: top;\n",
       "    }\n",
       "\n",
       "    .dataframe thead th {\n",
       "        text-align: right;\n",
       "    }\n",
       "</style>\n",
       "<table border=\"1\" class=\"dataframe\">\n",
       "  <thead>\n",
       "    <tr style=\"text-align: right;\">\n",
       "      <th></th>\n",
       "      <th>0</th>\n",
       "      <th>1</th>\n",
       "      <th>2</th>\n",
       "      <th>3</th>\n",
       "      <th>4</th>\n",
       "      <th>5</th>\n",
       "      <th>6</th>\n",
       "      <th>7</th>\n",
       "      <th>8</th>\n",
       "      <th>9</th>\n",
       "      <th>10</th>\n",
       "      <th>11</th>\n",
       "      <th>12</th>\n",
       "      <th>13</th>\n",
       "    </tr>\n",
       "  </thead>\n",
       "  <tbody>\n",
       "    <tr>\n",
       "      <th>492</th>\n",
       "      <td>0.11132</td>\n",
       "      <td>0.0</td>\n",
       "      <td>27.74</td>\n",
       "      <td>0</td>\n",
       "      <td>0.609</td>\n",
       "      <td>5.983</td>\n",
       "      <td>83.5</td>\n",
       "      <td>2.1099</td>\n",
       "      <td>4</td>\n",
       "      <td>711.0</td>\n",
       "      <td>20.1</td>\n",
       "      <td>396.90</td>\n",
       "      <td>13.35</td>\n",
       "      <td>20.1</td>\n",
       "    </tr>\n",
       "    <tr>\n",
       "      <th>369</th>\n",
       "      <td>5.66998</td>\n",
       "      <td>0.0</td>\n",
       "      <td>18.10</td>\n",
       "      <td>1</td>\n",
       "      <td>0.631</td>\n",
       "      <td>6.683</td>\n",
       "      <td>96.8</td>\n",
       "      <td>1.3567</td>\n",
       "      <td>24</td>\n",
       "      <td>666.0</td>\n",
       "      <td>20.2</td>\n",
       "      <td>375.33</td>\n",
       "      <td>3.73</td>\n",
       "      <td>50.0</td>\n",
       "    </tr>\n",
       "    <tr>\n",
       "      <th>154</th>\n",
       "      <td>1.41385</td>\n",
       "      <td>0.0</td>\n",
       "      <td>19.58</td>\n",
       "      <td>1</td>\n",
       "      <td>0.871</td>\n",
       "      <td>6.129</td>\n",
       "      <td>96.0</td>\n",
       "      <td>1.7494</td>\n",
       "      <td>5</td>\n",
       "      <td>403.0</td>\n",
       "      <td>14.7</td>\n",
       "      <td>321.02</td>\n",
       "      <td>15.12</td>\n",
       "      <td>17.0</td>\n",
       "    </tr>\n",
       "    <tr>\n",
       "      <th>270</th>\n",
       "      <td>0.29916</td>\n",
       "      <td>20.0</td>\n",
       "      <td>6.96</td>\n",
       "      <td>0</td>\n",
       "      <td>0.464</td>\n",
       "      <td>5.856</td>\n",
       "      <td>42.1</td>\n",
       "      <td>4.4290</td>\n",
       "      <td>3</td>\n",
       "      <td>223.0</td>\n",
       "      <td>18.6</td>\n",
       "      <td>388.65</td>\n",
       "      <td>13.00</td>\n",
       "      <td>21.1</td>\n",
       "    </tr>\n",
       "    <tr>\n",
       "      <th>19</th>\n",
       "      <td>0.72580</td>\n",
       "      <td>0.0</td>\n",
       "      <td>8.14</td>\n",
       "      <td>0</td>\n",
       "      <td>0.538</td>\n",
       "      <td>5.727</td>\n",
       "      <td>69.5</td>\n",
       "      <td>3.7965</td>\n",
       "      <td>4</td>\n",
       "      <td>307.0</td>\n",
       "      <td>21.0</td>\n",
       "      <td>390.95</td>\n",
       "      <td>11.28</td>\n",
       "      <td>18.2</td>\n",
       "    </tr>\n",
       "  </tbody>\n",
       "</table>\n",
       "</div>"
      ],
      "text/plain": [
       "          0     1      2   3      4      5     6       7   8      9     10  \\\n",
       "492  0.11132   0.0  27.74   0  0.609  5.983  83.5  2.1099   4  711.0  20.1   \n",
       "369  5.66998   0.0  18.10   1  0.631  6.683  96.8  1.3567  24  666.0  20.2   \n",
       "154  1.41385   0.0  19.58   1  0.871  6.129  96.0  1.7494   5  403.0  14.7   \n",
       "270  0.29916  20.0   6.96   0  0.464  5.856  42.1  4.4290   3  223.0  18.6   \n",
       "19   0.72580   0.0   8.14   0  0.538  5.727  69.5  3.7965   4  307.0  21.0   \n",
       "\n",
       "         11     12    13  \n",
       "492  396.90  13.35  20.1  \n",
       "369  375.33   3.73  50.0  \n",
       "154  321.02  15.12  17.0  \n",
       "270  388.65  13.00  21.1  \n",
       "19   390.95  11.28  18.2  "
      ]
     },
     "execution_count": 3,
     "metadata": {},
     "output_type": "execute_result"
    }
   ],
   "source": [
    "df_url = 'https://raw.githubusercontent.com/jbrownlee/Datasets/master/housing.csv'\n",
    "\n",
    "df = pd.read_csv(df_url, header=None)\n",
    "\n",
    "df.sample(5)"
   ]
  },
  {
   "cell_type": "code",
   "execution_count": 10,
   "id": "3cf9e674",
   "metadata": {},
   "outputs": [],
   "source": [
    "X = df.values[0:35, 12]\n",
    "y = df.values[0:35, 13]"
   ]
  },
  {
   "cell_type": "code",
   "execution_count": 11,
   "id": "677aca29",
   "metadata": {},
   "outputs": [
    {
     "data": {
      "text/plain": [
       "<Axes: >"
      ]
     },
     "execution_count": 11,
     "metadata": {},
     "output_type": "execute_result"
    },
    {
     "data": {
      "image/png": "[encoded data removed]",
      "text/plain": [
       "<Figure size 640x480 with 1 Axes>"
      ]
     },
     "metadata": {},
     "output_type": "display_data"
    }
   ],
   "source": [
    "import seaborn as sns\n",
    "\n",
    "sns.scatterplot(x=X, y=y)"
   ]
  },
  {
   "cell_type": "markdown",
   "id": "381e410f",
   "metadata": {},
   "source": [
    "### Simple Linear Regression"
   ]
  },
  {
   "cell_type": "code",
   "execution_count": 16,
   "id": "ea6fc3b9",
   "metadata": {},
   "outputs": [
    {
     "data": {
      "image/png": "[encoded data removed]",
      "text/plain": [
       "<Figure size 640x480 with 1 Axes>"
      ]
     },
     "metadata": {},
     "output_type": "display_data"
    },
    {
     "name": "stdout",
     "output_type": "stream",
     "text": [
      "RMSE: 4.109901007971022\n",
      "R2 score: 0.5397260819538162\n"
     ]
    }
   ],
   "source": [
    "# Simple Linear Regression\n",
    "\n",
    "from sklearn.linear_model import LinearRegression\n",
    "from sklearn.metrics import mean_squared_error, r2_score\n",
    "import matplotlib.pyplot as plt\n",
    "\n",
    "lg = LinearRegression()\n",
    "\n",
    "X_re = X[:, np.newaxis]\n",
    "y_re = y[:, np.newaxis]\n",
    "\n",
    "lg.fit(X_re, y_re)\n",
    "\n",
    "y_pred = lg.predict(X_re)\n",
    "plt.scatter(X_re, y_re, s=10)\n",
    "plt.plot(X_re, y_pred, color='r')\n",
    "plt.show()\n",
    "\n",
    "# Model Accuracy\n",
    "rmse = np.sqrt(mean_squared_error(y, y_pred))\n",
    "r2 = r2_score(y, y_pred)\n",
    "print(\"RMSE: \" + str(rmse))\n",
    "print(\"R2 score: \" + str(r2))\n"
   ]
  },
  {
   "cell_type": "markdown",
   "id": "3e6dec86",
   "metadata": {},
   "source": [
    "### Polynomial Regression"
   ]
  },
  {
   "cell_type": "code",
   "execution_count": 24,
   "id": "a22fd099",
   "metadata": {},
   "outputs": [
    {
     "data": {
      "image/png": "[encoded data removed]",
      "text/plain": [
       "<Figure size 640x480 with 1 Axes>"
      ]
     },
     "metadata": {},
     "output_type": "display_data"
    },
    {
     "name": "stdout",
     "output_type": "stream",
     "text": [
      "RMSE: 3.7775471605955615\n",
      "R2 score: 0.6111577631639984\n"
     ]
    }
   ],
   "source": [
    "import operator\n",
    "from sklearn.linear_model import LinearRegression\n",
    "from sklearn.preprocessing import PolynomialFeatures\n",
    "from sklearn.metrics import mean_squared_error, r2_score\n",
    "\n",
    "import matplotlib.pyplot as plt\n",
    "\n",
    "lg = LinearRegression()\n",
    "\n",
    "X_re = X[:, np.newaxis]\n",
    "y_re = y[:, np.newaxis]\n",
    "\n",
    "polynomial_features = PolynomialFeatures(degree=2)\n",
    "X_poly = polynomial_features.fit_transform(X_re)\n",
    "\n",
    "lg.fit(X_poly, y_re)\n",
    "\n",
    "y_poly_pred = lg.predict(X_poly)\n",
    "\n",
    "# Plot fit over data:\n",
    "plt.scatter(X_re, y_re, s=10)\n",
    "sort_axis = operator.itemgetter(0)\n",
    "sorted_zip = sorted(zip(X_re, y_poly_pred), key=sort_axis)\n",
    "X_re_sort, y_poly_pred = zip(*sorted_zip)\n",
    "plt.plot(X_re_sort, y_poly_pred, color='r')\n",
    "plt.show()\n",
    "\n",
    "# Model accuracy\n",
    "rmse = np.sqrt(mean_squared_error(y_re, y_poly_pred))\n",
    "r2 = r2_score(y_re, y_poly_pred)\n",
    "print(\"RMSE: \" + str(rmse))\n",
    "print(\"R2 score: \" + str(r2))"
   ]
  },
  {
   "cell_type": "markdown",
   "id": "baebfb28",
   "metadata": {},
   "source": [
    "### Ridge Regression"
   ]
  },
  {
   "cell_type": "code",
   "execution_count": 31,
   "id": "6f275851",
   "metadata": {},
   "outputs": [
    {
     "data": {
      "image/png": "[encoded data removed]",
      "text/plain": [
       "<Figure size 640x480 with 1 Axes>"
      ]
     },
     "metadata": {},
     "output_type": "display_data"
    },
    {
     "name": "stdout",
     "output_type": "stream",
     "text": [
      "RMSE: 4.120346020033415\n",
      "R2 score: 0.5373836042855222\n"
     ]
    }
   ],
   "source": [
    "# Model with ridge regularization\n",
    "from sklearn.linear_model import Ridge\n",
    "\n",
    "# define model with alpha=1\n",
    "ridge_reg = Ridge(alpha=100)\n",
    "\n",
    "# reshape\n",
    "X_re = X[:, np.newaxis]\n",
    "y_re = y[:, np.newaxis]\n",
    "\n",
    "# fit ridge model\n",
    "ridge_reg.fit(X_re, y_re)\n",
    "\n",
    "# predict y\n",
    "y_ridge_pred = ridge_reg.predict(X_re)\n",
    "\n",
    "# Plot fit over data\n",
    "plt.scatter(X_re, y_re, s=10)\n",
    "plt.plot(X_re, y_ridge_pred, color='r')\n",
    "plt.show()\n",
    "\n",
    "# Model accuracy\n",
    "rmse = np.sqrt(mean_squared_error(y_re, y_ridge_pred))\n",
    "r2 = r2_score(y_re, y_ridge_pred)\n",
    "print(\"RMSE: \" + str(rmse))\n",
    "print(\"R2 score: \" + str(r2))"
   ]
  }
 ],
 "metadata": {
  "kernelspec": {
   "display_name": ".venv",
   "language": "python",
   "name": "python3"
  },
  "language_info": {
   "codemirror_mode": {
    "name": "ipython",
    "version": 3
   },
   "file_extension": ".py",
   "mimetype": "text/x-python",
   "name": "python",
   "nbconvert_exporter": "python",
   "pygments_lexer": "ipython3",
   "version": "3.13.5"
  }
 },
 "nbformat": 4,
 "nbformat_minor": 5
}
